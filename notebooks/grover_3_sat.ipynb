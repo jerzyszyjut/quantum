{
 "cells": [
  {
   "cell_type": "code",
   "execution_count": 8,
   "id": "b5218b0c",
   "metadata": {},
   "outputs": [],
   "source": [
    "from qiskit import QuantumCircuit, QuantumRegister, ClassicalRegister, transpile\n",
    "from qiskit_aer import AerSimulator\n",
    "from qiskit.visualization import plot_histogram\n",
    "from qiskit.circuit.library import GroverOperator, MCMT, ZGate\n",
    "import math"
   ]
  },
  {
   "cell_type": "code",
   "execution_count": 9,
   "id": "582977b3",
   "metadata": {},
   "outputs": [],
   "source": [
    "\n",
    "# def grover_oracle(marked_states):\n",
    "#     if not isinstance(marked_states, list):\n",
    "#         marked_states = [marked_states]\n",
    "#     num_qubits = len(marked_states[0])\n",
    "\n",
    "#     qc = QuantumCircuit(num_qubits)\n",
    "#     for target in marked_states:\n",
    "#         rev_target = target[::-1]\n",
    "\n",
    "#         zero_inds = [ind for ind in range(num_qubits) if rev_target.startswith(\"0\", ind)]\n",
    "\n",
    "#         qc.x(zero_inds)\n",
    "#         qc.compose(MCMT(ZGate(), num_qubits - 1, 1), inplace=True)\n",
    "#         qc.x(zero_inds)\n",
    "#     return qc\n",
    "\n",
    "# marked_states = [\"011\", \"100\"]\n",
    "\n",
    "# oracle = grover_oracle(marked_states)\n",
    "# oracle.draw(output=\"mpl\", style=\"iqp\")"
   ]
  },
  {
   "cell_type": "code",
   "execution_count": 10,
   "id": "8bcd632c",
   "metadata": {},
   "outputs": [],
   "source": [
    "def grover_oracle_3sat(clauses, num_vars):\n",
    "    num_clauses = len(clauses)\n",
    "    total_qubits = num_vars + num_clauses + 1\n",
    "    qc = QuantumCircuit(total_qubits)\n",
    "    \n",
    "    # Label registers: assignment qubits = 0 ... num_vars-1,\n",
    "    # clause ancillas = num_vars ... num_vars+num_clauses-1,\n",
    "    # phase qubit = total_qubits-1.\n",
    "    assignment = list(range(num_vars))\n",
    "    clause_ancillas = list(range(num_vars, num_vars + num_clauses))\n",
    "    phase_qubit = total_qubits - 1\n",
    "\n",
    "    # Prepare phase qubit in |–> state.\n",
    "    qc.h(phase_qubit)\n",
    "    qc.x(phase_qubit)\n",
    "    \n",
    "    # For each clause, mark a clause-ancilla if the clause is false.\n",
    "    # A clause (l1 OR l2 OR l3) is false only if all three literals are false.\n",
    "    # For each literal:\n",
    "    #   - If positive, the qubit should be True (|1>), so we flip (X) the qubit to detect |0>.\n",
    "    #   - If negative, no change is needed since |1> already means false.\n",
    "    for i, clause in enumerate(clauses):\n",
    "        for literal in clause:\n",
    "            var_index = abs(literal) - 1  # convert 1-indexed to 0-indexed.\n",
    "            if literal > 0:\n",
    "                qc.x(assignment[var_index])\n",
    "        \n",
    "        # If all three (modified) assignment qubits are 1, then the clause is false.\n",
    "        qc.mcx([abs(lit)-1 for lit in clause], clause_ancillas[i])\n",
    "        \n",
    "        # Undo the X gates applied for positive literals.\n",
    "        for literal in clause:\n",
    "            var_index = abs(literal) - 1\n",
    "            if literal > 0:\n",
    "                qc.x(assignment[var_index])\n",
    "                \n",
    "    qc.barrier()\n",
    "    # Invert clause ancillas so that a 1 indicates the clause is satisfied.\n",
    "    for i in range(num_clauses):\n",
    "        qc.x(clause_ancillas[i])\n",
    "        \n",
    "    qc.barrier()\n",
    "    # When all inverted clause ancillas are 1, every clause is satisfied.\n",
    "    # Use them as controls to flip the phase qubit.\n",
    "    qc.mcx(clause_ancillas, phase_qubit)\n",
    "    \n",
    "    qc.barrier()\n",
    "    # Undo the inversion of clause ancillas.\n",
    "    for i in range(num_clauses):\n",
    "        qc.x(clause_ancillas[i])\n",
    "        \n",
    "    # Uncompute the clause ancillas.\n",
    "    for i, clause in reversed(list(enumerate(clauses))):\n",
    "        for literal in clause:\n",
    "            var_index = abs(literal) - 1\n",
    "            if literal > 0:\n",
    "                qc.x(assignment[var_index])\n",
    "        qc.mcx([abs(lit)-1 for lit in clause], clause_ancillas[i])\n",
    "        for literal in clause:\n",
    "            var_index = abs(literal) - 1\n",
    "            if literal > 0:\n",
    "                qc.x(assignment[var_index])\n",
    "        qc.barrier()\n",
    "        \n",
    "    # Restore the phase qubit to the computational basis.\n",
    "    qc.x(phase_qubit)\n",
    "    qc.h(phase_qubit)\n",
    "    qc.barrier()\n",
    "    \n",
    "    return qc\n",
    "\n",
    "# Example usage:\n",
    "# Suppose we have a 3-SAT formula with 3 variables and 2 clauses:\n",
    "# Clause 1: (x1 OR ¬x2 OR x3) represented as [1, -2, 3]\n",
    "# Clause 2: (¬x1 OR x2 OR x3) represented as [-1, 2, 3]\n",
    "clauses = [\n",
    "    [1, -2, -3],  # forces x1=1: if x1 is 0 then clause is false because -2 and -3 require x2=0, x3=0\n",
    "    [-1, 2, -3],  # forces x2=1\n",
    "    [-1, -2, 3]   # forces x3=1\n",
    "]\n",
    "num_vars = 3\n",
    "\n",
    "oracle = grover_oracle_3sat(clauses, num_vars)\n",
    "# oracle.draw(output=\"mpl\", style=\"iqp\")"
   ]
  },
  {
   "cell_type": "code",
   "execution_count": 11,
   "id": "b842ad12",
   "metadata": {},
   "outputs": [],
   "source": [
    "grover_op = GroverOperator(oracle)\n",
    "# grover_op.decompose().draw(output=\"mpl\", style=\"iqp\")"
   ]
  },
  {
   "cell_type": "code",
   "execution_count": 12,
   "id": "29a83bc5",
   "metadata": {},
   "outputs": [
    {
     "name": "stdout",
     "output_type": "stream",
     "text": [
      "Optimal iterations: 8\n"
     ]
    }
   ],
   "source": [
    "N = grover_op.num_qubits\n",
    "optimal_num_iterations = math.floor(math.pi / (4 * math.asin(math.sqrt(1/2**N))))\n",
    "print(\"Optimal iterations:\", optimal_num_iterations)"
   ]
  },
  {
   "cell_type": "code",
   "execution_count": 13,
   "id": "e102987f",
   "metadata": {},
   "outputs": [
    {
     "data": {
      "text/plain": [
       "<qiskit.circuit.instructionset.InstructionSet at 0x7026e449faf0>"
      ]
     },
     "execution_count": 13,
     "metadata": {},
     "output_type": "execute_result"
    }
   ],
   "source": [
    "qc = QuantumCircuit(N, num_vars)\n",
    "qc.h(range(N))\n",
    "qc.compose(grover_op.power(optimal_num_iterations), inplace=True)\n",
    "# Measure only the assignment qubits (first num_vars qubits).\n",
    "qc.measure(list(range(num_vars)), list(range(num_vars)))\n",
    "# qc.draw(output=\"mpl\", style=\"iqp\")"
   ]
  },
  {
   "cell_type": "code",
   "execution_count": 14,
   "id": "9c2e5261",
   "metadata": {},
   "outputs": [
    {
     "name": "stdout",
     "output_type": "stream",
     "text": [
      "{'001': 116, '110': 123, '101': 133, '100': 122, '000': 119, '010': 142, '011': 141, '111': 128}\n"
     ]
    }
   ],
   "source": [
    "simulator = AerSimulator()\n",
    "qc_compiled = transpile(qc, simulator)\n",
    "job = simulator.run(qc_compiled)\n",
    "result = job.result()\n",
    "counts = result.get_counts(qc_compiled)\n",
    "print(counts)\n",
    "# plot_histogram(counts)"
   ]
  },
  {
   "cell_type": "code",
   "execution_count": null,
   "id": "7e28a146",
   "metadata": {},
   "outputs": [],
   "source": []
  },
  {
   "cell_type": "code",
   "execution_count": null,
   "id": "bcfc2188",
   "metadata": {},
   "outputs": [],
   "source": []
  }
 ],
 "metadata": {
  "kernelspec": {
   "display_name": ".venv",
   "language": "python",
   "name": "python3"
  },
  "language_info": {
   "codemirror_mode": {
    "name": "ipython",
    "version": 3
   },
   "file_extension": ".py",
   "mimetype": "text/x-python",
   "name": "python",
   "nbconvert_exporter": "python",
   "pygments_lexer": "ipython3",
   "version": "3.13.3"
  }
 },
 "nbformat": 4,
 "nbformat_minor": 5
}
