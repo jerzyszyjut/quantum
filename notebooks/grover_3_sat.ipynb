{
 "cells": [
  {
   "cell_type": "code",
   "execution_count": null,
   "id": "b5218b0c",
   "metadata": {},
   "outputs": [
    {
     "ename": "NameError",
     "evalue": "name 'grover_op' is not defined",
     "output_type": "error",
     "traceback": [
      "\u001b[31m---------------------------------------------------------------------------\u001b[39m",
      "\u001b[31mNameError\u001b[39m                                 Traceback (most recent call last)",
      "\u001b[36mCell\u001b[39m\u001b[36m \u001b[39m\u001b[32mIn[132]\u001b[39m\u001b[32m, line 74\u001b[39m\n\u001b[32m     70\u001b[39m oracle = create_oracle(var_qubits, clause_ancillas, oracle_qubit)\n\u001b[32m     71\u001b[39m grover_operator = GroverOperator(oracle)\n\u001b[32m     73\u001b[39m optimal_num_iterations = math.floor(\n\u001b[32m---> \u001b[39m\u001b[32m74\u001b[39m     math.pi / (\u001b[32m4\u001b[39m * math.asin(math.sqrt(CLAUSES / \u001b[32m2\u001b[39m**\u001b[43mgrover_op\u001b[49m.num_qubits)))\n\u001b[32m     75\u001b[39m )\n\u001b[32m     77\u001b[39m \u001b[38;5;66;03m# Measure the variables\u001b[39;00m\n\u001b[32m     78\u001b[39m grover_circuit.measure(var_qubits, cr)\n",
      "\u001b[31mNameError\u001b[39m: name 'grover_op' is not defined"
     ]
    }
   ],
   "source": [
    "from qiskit import QuantumCircuit, QuantumRegister, ClassicalRegister\n",
    "from qiskit_aer import AerSimulator\n",
    "from qiskit.visualization import plot_histogram\n",
    "from qiskit.circuit.library import GroverOperator\n",
    "import math\n",
    "\n",
    "CLAUSES = [\n",
    "    [1, 1, 0],  # Clause 1: (x0 ∨ x1 ∨ ¬x2)\n",
    "]\n",
    "\n",
    "def create_oracle(var_qubits, clause_ancillas, oracle_qubit):\n",
    "    qc = QuantumCircuit(var_qubits, clause_ancillas, oracle_qubit)\n",
    "    \n",
    "    for index, clause in enumerate(CLAUSES):\n",
    "        qc.x([var_qubits[i] for i, val in enumerate(clause) if val == 1])\n",
    "        qc.mcx(\n",
    "            var_qubits,\n",
    "            clause_ancillas[index]\n",
    "        )\n",
    "    \n",
    "    # Clause 1: (x0 ∨ x1 ∨ ¬x2)\n",
    "    # qc.x([var_qubits[0], var_qubits[1]])\n",
    "    # qc.mcx([var_qubits[0], var_qubits[1], var_qubits[2]], clause_ancillas[0])\n",
    "    # qc.x([var_qubits[0], var_qubits[1]])\n",
    "    # qc.x(clause_ancillas[0])\n",
    "    # qc.barrier()\n",
    "\n",
    "    \n",
    "    # Clause 2: (¬x0 ∨ x1 ∨ x2)\n",
    "    # qc.x([var_qubits[1], var_qubits[2]])\n",
    "    # qc.mcx([var_qubits[0], var_qubits[1], var_qubits[2]], clause_ancillas[1])\n",
    "    # qc.x([var_qubits[1], var_qubits[2]])\n",
    "    # qc.x(clause_ancillas[1])\n",
    "    \n",
    "    qc.h(oracle_qubit)\n",
    "    qc.mcx(clause_ancillas, oracle_qubit)\n",
    "    qc.h(oracle_qubit)\n",
    "    qc.barrier()\n",
    "    \n",
    "    # Uncompute clause ancillas\n",
    "    # Uncompute clause 2\n",
    "    # qc.x(clause_ancillas[1])\n",
    "    # qc.x([var_qubits[1], var_qubits[2]])\n",
    "    # qc.mcx([var_qubits[0], var_qubits[1], var_qubits[2]], clause_ancillas[1])\n",
    "    # qc.x([var_qubits[1], var_qubits[2]])\n",
    "    \n",
    "    # Uncompute clause 1\n",
    "    # qc.x(clause_ancillas[0])\n",
    "    # qc.x([var_qubits[0], var_qubits[1]])\n",
    "    # qc.mcx([var_qubits[0], var_qubits[1], var_qubits[2]], clause_ancillas[0])\n",
    "    # qc.x([var_qubits[0], var_qubits[1]])\n",
    "    # qc.barrier()\n",
    "    \n",
    "    return qc\n",
    "\n",
    "# def create_diffusion(var_qubits):\n",
    "#     qc = QuantumCircuit(var_qubits)\n",
    "#     qc.h(var_qubits)\n",
    "#     qc.x(var_qubits)\n",
    "#     qc.h(var_qubits[-1])\n",
    "#     qc.mcx(var_qubits[:-1], var_qubits[-1])\n",
    "#     qc.h(var_qubits[-1])\n",
    "#     qc.x(var_qubits)\n",
    "#     qc.h(var_qubits)\n",
    "\n",
    "#     return qc\n",
    "\n",
    "var_qubits = QuantumRegister(3, name='v')\n",
    "# clause_ancillas = QuantumRegister(2, name='c')\n",
    "clause_ancillas = QuantumRegister(1, name='c')\n",
    "oracle_qubit = QuantumRegister(1, name='o')\n",
    "cr = ClassicalRegister(3, name='cr')\n",
    "\n",
    "grover_circuit = QuantumCircuit(var_qubits, clause_ancillas, oracle_qubit, cr)\n",
    "\n",
    "grover_circuit.h(var_qubits)\n",
    "grover_circuit.x(oracle_qubit)\n",
    "grover_circuit.h(oracle_qubit)\n",
    "\n",
    "oracle = create_oracle(var_qubits, clause_ancillas, oracle_qubit)\n",
    "grover_operator = GroverOperator(oracle)\n",
    "\n",
    "optimal_num_iterations = math.floor(\n",
    "    math.pi / (4 * math.asin(math.sqrt(CLAUSES / 2**grover_op.num_qubits)))\n",
    ")\n",
    "\n",
    "# Measure the variables\n",
    "grover_circuit.measure(var_qubits, cr)\n",
    "\n",
    "grover_circuit.draw(\"mpl\")"
   ]
  },
  {
   "cell_type": "code",
   "execution_count": 129,
   "id": "9c2e5261",
   "metadata": {},
   "outputs": [
    {
     "name": "stdout",
     "output_type": "stream",
     "text": [
      "Counts: {'101': 78, '111': 76, '011': 89, '100': 456, '110': 76, '001': 70, '000': 89, '010': 90}\n"
     ]
    },
    {
     "data": {
      "image/png": "[encoded data removed]",
      "text/plain": [
       "<Figure size 640x480 with 1 Axes>"
      ]
     },
     "execution_count": 129,
     "metadata": {},
     "output_type": "execute_result"
    }
   ],
   "source": [
    "\n",
    "grover_circuit.compose(diffusion, inplace=True)\n",
    "# Simulate the circuit\n",
    "simulator = AerSimulator()\n",
    "\n",
    "result = simulator.run(grover_circuit).result()\n",
    "\n",
    "counts = result.get_counts()\n",
    "\n",
    "print(\"Counts:\", counts)\n",
    "\n",
    "plot_histogram(counts)"
   ]
  },
  {
   "cell_type": "code",
   "execution_count": null,
   "id": "bcfc2188",
   "metadata": {},
   "outputs": [],
   "source": []
  }
 ],
 "metadata": {
  "kernelspec": {
   "display_name": ".venv",
   "language": "python",
   "name": "python3"
  },
  "language_info": {
   "codemirror_mode": {
    "name": "ipython",
    "version": 3
   },
   "file_extension": ".py",
   "mimetype": "text/x-python",
   "name": "python",
   "nbconvert_exporter": "python",
   "pygments_lexer": "ipython3",
   "version": "3.13.3"
  }
 },
 "nbformat": 4,
 "nbformat_minor": 5
}
